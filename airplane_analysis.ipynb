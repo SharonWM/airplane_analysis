{
 "cells": [
  {
   "cell_type": "markdown",
   "id": "80496fba",
   "metadata": {},
   "source": [
    "# Airplane Analysis\n",
    "## Overview\n",
    "My company is planning to expand into the aircraft industry, and is interested in purchasing and operating airplanes for both commercial and private enterprises. Since this is a novel business venture for the organization, an analysis of aircraft data has been conducted in order to identify potential risks and acquire useful insights that the company can utilize as it diversifies its portfolio."
   ]
  },
  {
   "cell_type": "markdown",
   "id": "0cdbb393",
   "metadata": {},
   "source": [
    "## Business Understanding\n",
    "The objective of this analysis is to determine if delving into the aircraft industry is worthwhile for the company, and to dentify which types of aircrafts the company should purchase to reduce risks.\n",
    "To achieve this, the following questions were investigated:\n",
    "\n",
    "1. What is the trend of aircraft accidents and fatalities over the years?\n",
    "2. At which phases of flight are accidents more likely to occur? Which phases result in more fatalities and which phases result in more damage to the aircraft?\n",
    "3. Is there a relation between number of engines in an aircraft and fatalities incase of an accident?"
   ]
  },
  {
   "cell_type": "markdown",
   "id": "15ead2ab",
   "metadata": {},
   "source": [
    "## Data Understanding, Preparation and Analysis\n",
    "For this analysis, I used a dataset from the National Transportation Safety Board that includes accident data from 1962 to 2023. The data contains records of civil aviation accidents and selected incidents in the USA and international waters."
   ]
  },
  {
   "cell_type": "markdown",
   "id": "80ab3afb",
   "metadata": {},
   "source": [
    "### Loading the Data"
   ]
  },
  {
   "cell_type": "code",
   "execution_count": 183,
   "id": "d722ddf7",
   "metadata": {},
   "outputs": [],
   "source": [
    "# Importing required modules and libraries\n",
    "\n",
    "import numpy as np\n",
    "import pandas as pd\n",
    "import matplotlib.pyplot as plt\n",
    "import seaborn as sns\n",
    "\n",
    "%matplotlib inline"
   ]
  },
  {
   "cell_type": "code",
   "execution_count": 184,
   "id": "a73c742e",
   "metadata": {},
   "outputs": [
    {
     "name": "stderr",
     "output_type": "stream",
     "text": [
      "c:\\Users\\USER\\anaconda3\\envs\\learn-env\\lib\\site-packages\\IPython\\core\\interactiveshell.py:3145: DtypeWarning: Columns (6,7,28) have mixed types.Specify dtype option on import or set low_memory=False.\n",
      "  has_raised = await self.run_ast_nodes(code_ast.body, cell_name,\n"
     ]
    },
    {
     "data": {
      "text/html": [
       "<div>\n",
       "<style scoped>\n",
       "    .dataframe tbody tr th:only-of-type {\n",
       "        vertical-align: middle;\n",
       "    }\n",
       "\n",
       "    .dataframe tbody tr th {\n",
       "        vertical-align: top;\n",
       "    }\n",
       "\n",
       "    .dataframe thead th {\n",
       "        text-align: right;\n",
       "    }\n",
       "</style>\n",
       "<table border=\"1\" class=\"dataframe\">\n",
       "  <thead>\n",
       "    <tr style=\"text-align: right;\">\n",
       "      <th></th>\n",
       "      <th>Event.Id</th>\n",
       "      <th>Investigation.Type</th>\n",
       "      <th>Accident.Number</th>\n",
       "      <th>Event.Date</th>\n",
       "      <th>Location</th>\n",
       "      <th>Country</th>\n",
       "      <th>Latitude</th>\n",
       "      <th>Longitude</th>\n",
       "      <th>Airport.Code</th>\n",
       "      <th>Airport.Name</th>\n",
       "      <th>...</th>\n",
       "      <th>Purpose.of.flight</th>\n",
       "      <th>Air.carrier</th>\n",
       "      <th>Total.Fatal.Injuries</th>\n",
       "      <th>Total.Serious.Injuries</th>\n",
       "      <th>Total.Minor.Injuries</th>\n",
       "      <th>Total.Uninjured</th>\n",
       "      <th>Weather.Condition</th>\n",
       "      <th>Broad.phase.of.flight</th>\n",
       "      <th>Report.Status</th>\n",
       "      <th>Publication.Date</th>\n",
       "    </tr>\n",
       "  </thead>\n",
       "  <tbody>\n",
       "    <tr>\n",
       "      <th>0</th>\n",
       "      <td>20001218X45444</td>\n",
       "      <td>Accident</td>\n",
       "      <td>SEA87LA080</td>\n",
       "      <td>1948-10-24</td>\n",
       "      <td>MOOSE CREEK, ID</td>\n",
       "      <td>United States</td>\n",
       "      <td>NaN</td>\n",
       "      <td>NaN</td>\n",
       "      <td>NaN</td>\n",
       "      <td>NaN</td>\n",
       "      <td>...</td>\n",
       "      <td>Personal</td>\n",
       "      <td>NaN</td>\n",
       "      <td>2.0</td>\n",
       "      <td>0.0</td>\n",
       "      <td>0.0</td>\n",
       "      <td>0.0</td>\n",
       "      <td>UNK</td>\n",
       "      <td>Cruise</td>\n",
       "      <td>Probable Cause</td>\n",
       "      <td>NaN</td>\n",
       "    </tr>\n",
       "    <tr>\n",
       "      <th>1</th>\n",
       "      <td>20001218X45447</td>\n",
       "      <td>Accident</td>\n",
       "      <td>LAX94LA336</td>\n",
       "      <td>1962-07-19</td>\n",
       "      <td>BRIDGEPORT, CA</td>\n",
       "      <td>United States</td>\n",
       "      <td>NaN</td>\n",
       "      <td>NaN</td>\n",
       "      <td>NaN</td>\n",
       "      <td>NaN</td>\n",
       "      <td>...</td>\n",
       "      <td>Personal</td>\n",
       "      <td>NaN</td>\n",
       "      <td>4.0</td>\n",
       "      <td>0.0</td>\n",
       "      <td>0.0</td>\n",
       "      <td>0.0</td>\n",
       "      <td>UNK</td>\n",
       "      <td>Unknown</td>\n",
       "      <td>Probable Cause</td>\n",
       "      <td>19-09-1996</td>\n",
       "    </tr>\n",
       "    <tr>\n",
       "      <th>2</th>\n",
       "      <td>20061025X01555</td>\n",
       "      <td>Accident</td>\n",
       "      <td>NYC07LA005</td>\n",
       "      <td>1974-08-30</td>\n",
       "      <td>Saltville, VA</td>\n",
       "      <td>United States</td>\n",
       "      <td>36.9222</td>\n",
       "      <td>-81.8781</td>\n",
       "      <td>NaN</td>\n",
       "      <td>NaN</td>\n",
       "      <td>...</td>\n",
       "      <td>Personal</td>\n",
       "      <td>NaN</td>\n",
       "      <td>3.0</td>\n",
       "      <td>NaN</td>\n",
       "      <td>NaN</td>\n",
       "      <td>NaN</td>\n",
       "      <td>IMC</td>\n",
       "      <td>Cruise</td>\n",
       "      <td>Probable Cause</td>\n",
       "      <td>26-02-2007</td>\n",
       "    </tr>\n",
       "    <tr>\n",
       "      <th>3</th>\n",
       "      <td>20001218X45448</td>\n",
       "      <td>Accident</td>\n",
       "      <td>LAX96LA321</td>\n",
       "      <td>1977-06-19</td>\n",
       "      <td>EUREKA, CA</td>\n",
       "      <td>United States</td>\n",
       "      <td>NaN</td>\n",
       "      <td>NaN</td>\n",
       "      <td>NaN</td>\n",
       "      <td>NaN</td>\n",
       "      <td>...</td>\n",
       "      <td>Personal</td>\n",
       "      <td>NaN</td>\n",
       "      <td>2.0</td>\n",
       "      <td>0.0</td>\n",
       "      <td>0.0</td>\n",
       "      <td>0.0</td>\n",
       "      <td>IMC</td>\n",
       "      <td>Cruise</td>\n",
       "      <td>Probable Cause</td>\n",
       "      <td>12-09-2000</td>\n",
       "    </tr>\n",
       "    <tr>\n",
       "      <th>4</th>\n",
       "      <td>20041105X01764</td>\n",
       "      <td>Accident</td>\n",
       "      <td>CHI79FA064</td>\n",
       "      <td>1979-08-02</td>\n",
       "      <td>Canton, OH</td>\n",
       "      <td>United States</td>\n",
       "      <td>NaN</td>\n",
       "      <td>NaN</td>\n",
       "      <td>NaN</td>\n",
       "      <td>NaN</td>\n",
       "      <td>...</td>\n",
       "      <td>Personal</td>\n",
       "      <td>NaN</td>\n",
       "      <td>1.0</td>\n",
       "      <td>2.0</td>\n",
       "      <td>NaN</td>\n",
       "      <td>0.0</td>\n",
       "      <td>VMC</td>\n",
       "      <td>Approach</td>\n",
       "      <td>Probable Cause</td>\n",
       "      <td>16-04-1980</td>\n",
       "    </tr>\n",
       "  </tbody>\n",
       "</table>\n",
       "<p>5 rows × 31 columns</p>\n",
       "</div>"
      ],
      "text/plain": [
       "         Event.Id Investigation.Type Accident.Number  Event.Date  \\\n",
       "0  20001218X45444           Accident      SEA87LA080  1948-10-24   \n",
       "1  20001218X45447           Accident      LAX94LA336  1962-07-19   \n",
       "2  20061025X01555           Accident      NYC07LA005  1974-08-30   \n",
       "3  20001218X45448           Accident      LAX96LA321  1977-06-19   \n",
       "4  20041105X01764           Accident      CHI79FA064  1979-08-02   \n",
       "\n",
       "          Location        Country Latitude Longitude Airport.Code  \\\n",
       "0  MOOSE CREEK, ID  United States      NaN       NaN          NaN   \n",
       "1   BRIDGEPORT, CA  United States      NaN       NaN          NaN   \n",
       "2    Saltville, VA  United States  36.9222  -81.8781          NaN   \n",
       "3       EUREKA, CA  United States      NaN       NaN          NaN   \n",
       "4       Canton, OH  United States      NaN       NaN          NaN   \n",
       "\n",
       "  Airport.Name  ... Purpose.of.flight Air.carrier Total.Fatal.Injuries  \\\n",
       "0          NaN  ...          Personal         NaN                  2.0   \n",
       "1          NaN  ...          Personal         NaN                  4.0   \n",
       "2          NaN  ...          Personal         NaN                  3.0   \n",
       "3          NaN  ...          Personal         NaN                  2.0   \n",
       "4          NaN  ...          Personal         NaN                  1.0   \n",
       "\n",
       "  Total.Serious.Injuries Total.Minor.Injuries Total.Uninjured  \\\n",
       "0                    0.0                  0.0             0.0   \n",
       "1                    0.0                  0.0             0.0   \n",
       "2                    NaN                  NaN             NaN   \n",
       "3                    0.0                  0.0             0.0   \n",
       "4                    2.0                  NaN             0.0   \n",
       "\n",
       "  Weather.Condition  Broad.phase.of.flight   Report.Status Publication.Date  \n",
       "0               UNK                 Cruise  Probable Cause              NaN  \n",
       "1               UNK                Unknown  Probable Cause       19-09-1996  \n",
       "2               IMC                 Cruise  Probable Cause       26-02-2007  \n",
       "3               IMC                 Cruise  Probable Cause       12-09-2000  \n",
       "4               VMC               Approach  Probable Cause       16-04-1980  \n",
       "\n",
       "[5 rows x 31 columns]"
      ]
     },
     "execution_count": 184,
     "metadata": {},
     "output_type": "execute_result"
    }
   ],
   "source": [
    "# Loading the dataset into a DataFrame\n",
    "df = pd.read_csv('Data/Aviation_Data.csv')\n",
    "df.head()"
   ]
  },
  {
   "cell_type": "code",
   "execution_count": 185,
   "id": "5fd3f5f6",
   "metadata": {},
   "outputs": [
    {
     "data": {
      "text/plain": [
       "(90348, 31)"
      ]
     },
     "execution_count": 185,
     "metadata": {},
     "output_type": "execute_result"
    }
   ],
   "source": [
    "# Displaying the rows and columns of the data\n",
    "df.shape"
   ]
  },
  {
   "cell_type": "code",
   "execution_count": 186,
   "id": "4c5e4ad2",
   "metadata": {},
   "outputs": [
    {
     "data": {
      "text/plain": [
       "Index(['Event.Id', 'Investigation.Type', 'Accident.Number', 'Event.Date',\n",
       "       'Location', 'Country', 'Latitude', 'Longitude', 'Airport.Code',\n",
       "       'Airport.Name', 'Injury.Severity', 'Aircraft.damage',\n",
       "       'Aircraft.Category', 'Registration.Number', 'Make', 'Model',\n",
       "       'Amateur.Built', 'Number.of.Engines', 'Engine.Type', 'FAR.Description',\n",
       "       'Schedule', 'Purpose.of.flight', 'Air.carrier', 'Total.Fatal.Injuries',\n",
       "       'Total.Serious.Injuries', 'Total.Minor.Injuries', 'Total.Uninjured',\n",
       "       'Weather.Condition', 'Broad.phase.of.flight', 'Report.Status',\n",
       "       'Publication.Date'],\n",
       "      dtype='object')"
      ]
     },
     "execution_count": 186,
     "metadata": {},
     "output_type": "execute_result"
    }
   ],
   "source": [
    "# Displaying the colmn names\n",
    "df.columns"
   ]
  },
  {
   "cell_type": "code",
   "execution_count": 187,
   "id": "6c10cc32",
   "metadata": {},
   "outputs": [],
   "source": [
    "# Formating column names to strip whitespaces, convert to lowercase and replace '.' with '_'\n",
    "df.columns = df.columns.str.strip().str.lower().str.replace('.', '_')"
   ]
  },
  {
   "cell_type": "code",
   "execution_count": 188,
   "id": "22ebe8e4",
   "metadata": {},
   "outputs": [
    {
     "name": "stdout",
     "output_type": "stream",
     "text": [
      "<class 'pandas.core.frame.DataFrame'>\n",
      "RangeIndex: 90348 entries, 0 to 90347\n",
      "Data columns (total 31 columns):\n",
      " #   Column                  Non-Null Count  Dtype  \n",
      "---  ------                  --------------  -----  \n",
      " 0   event_id                88889 non-null  object \n",
      " 1   investigation_type      90348 non-null  object \n",
      " 2   accident_number         88889 non-null  object \n",
      " 3   event_date              88889 non-null  object \n",
      " 4   location                88837 non-null  object \n",
      " 5   country                 88663 non-null  object \n",
      " 6   latitude                34382 non-null  object \n",
      " 7   longitude               34373 non-null  object \n",
      " 8   airport_code            50249 non-null  object \n",
      " 9   airport_name            52790 non-null  object \n",
      " 10  injury_severity         87889 non-null  object \n",
      " 11  aircraft_damage         85695 non-null  object \n",
      " 12  aircraft_category       32287 non-null  object \n",
      " 13  registration_number     87572 non-null  object \n",
      " 14  make                    88826 non-null  object \n",
      " 15  model                   88797 non-null  object \n",
      " 16  amateur_built           88787 non-null  object \n",
      " 17  number_of_engines       82805 non-null  float64\n",
      " 18  engine_type             81812 non-null  object \n",
      " 19  far_description         32023 non-null  object \n",
      " 20  schedule                12582 non-null  object \n",
      " 21  purpose_of_flight       82697 non-null  object \n",
      " 22  air_carrier             16648 non-null  object \n",
      " 23  total_fatal_injuries    77488 non-null  float64\n",
      " 24  total_serious_injuries  76379 non-null  float64\n",
      " 25  total_minor_injuries    76956 non-null  float64\n",
      " 26  total_uninjured         82977 non-null  float64\n",
      " 27  weather_condition       84397 non-null  object \n",
      " 28  broad_phase_of_flight   61724 non-null  object \n",
      " 29  report_status           82508 non-null  object \n",
      " 30  publication_date        73659 non-null  object \n",
      "dtypes: float64(5), object(26)\n",
      "memory usage: 21.4+ MB\n"
     ]
    }
   ],
   "source": [
    "# Displaying general information about the dataset\n",
    "df.info()"
   ]
  },
  {
   "cell_type": "markdown",
   "id": "068c4f51",
   "metadata": {},
   "source": [
    "The dataset contains 90,348 records with 31 columns.\n",
    "There are a number of columns such as `event_date`, `aircraft_damage` and `number_of_engines` have missing values."
   ]
  },
  {
   "cell_type": "markdown",
   "id": "45fbce0a",
   "metadata": {},
   "source": [
    "For ease of analysis, only the columns of interest will be retained."
   ]
  },
  {
   "cell_type": "code",
   "execution_count": 189,
   "id": "5ff47a2d",
   "metadata": {},
   "outputs": [
    {
     "data": {
      "text/html": [
       "<div>\n",
       "<style scoped>\n",
       "    .dataframe tbody tr th:only-of-type {\n",
       "        vertical-align: middle;\n",
       "    }\n",
       "\n",
       "    .dataframe tbody tr th {\n",
       "        vertical-align: top;\n",
       "    }\n",
       "\n",
       "    .dataframe thead th {\n",
       "        text-align: right;\n",
       "    }\n",
       "</style>\n",
       "<table border=\"1\" class=\"dataframe\">\n",
       "  <thead>\n",
       "    <tr style=\"text-align: right;\">\n",
       "      <th></th>\n",
       "      <th>investigation_type</th>\n",
       "      <th>event_date</th>\n",
       "      <th>aircraft_damage</th>\n",
       "      <th>number_of_engines</th>\n",
       "      <th>total_fatal_injuries</th>\n",
       "      <th>broad_phase_of_flight</th>\n",
       "    </tr>\n",
       "  </thead>\n",
       "  <tbody>\n",
       "    <tr>\n",
       "      <th>0</th>\n",
       "      <td>Accident</td>\n",
       "      <td>1948-10-24</td>\n",
       "      <td>Destroyed</td>\n",
       "      <td>1.0</td>\n",
       "      <td>2.0</td>\n",
       "      <td>Cruise</td>\n",
       "    </tr>\n",
       "    <tr>\n",
       "      <th>1</th>\n",
       "      <td>Accident</td>\n",
       "      <td>1962-07-19</td>\n",
       "      <td>Destroyed</td>\n",
       "      <td>1.0</td>\n",
       "      <td>4.0</td>\n",
       "      <td>Unknown</td>\n",
       "    </tr>\n",
       "    <tr>\n",
       "      <th>2</th>\n",
       "      <td>Accident</td>\n",
       "      <td>1974-08-30</td>\n",
       "      <td>Destroyed</td>\n",
       "      <td>1.0</td>\n",
       "      <td>3.0</td>\n",
       "      <td>Cruise</td>\n",
       "    </tr>\n",
       "    <tr>\n",
       "      <th>3</th>\n",
       "      <td>Accident</td>\n",
       "      <td>1977-06-19</td>\n",
       "      <td>Destroyed</td>\n",
       "      <td>1.0</td>\n",
       "      <td>2.0</td>\n",
       "      <td>Cruise</td>\n",
       "    </tr>\n",
       "    <tr>\n",
       "      <th>4</th>\n",
       "      <td>Accident</td>\n",
       "      <td>1979-08-02</td>\n",
       "      <td>Destroyed</td>\n",
       "      <td>NaN</td>\n",
       "      <td>1.0</td>\n",
       "      <td>Approach</td>\n",
       "    </tr>\n",
       "  </tbody>\n",
       "</table>\n",
       "</div>"
      ],
      "text/plain": [
       "  investigation_type  event_date aircraft_damage  number_of_engines  \\\n",
       "0           Accident  1948-10-24       Destroyed                1.0   \n",
       "1           Accident  1962-07-19       Destroyed                1.0   \n",
       "2           Accident  1974-08-30       Destroyed                1.0   \n",
       "3           Accident  1977-06-19       Destroyed                1.0   \n",
       "4           Accident  1979-08-02       Destroyed                NaN   \n",
       "\n",
       "   total_fatal_injuries broad_phase_of_flight  \n",
       "0                   2.0                Cruise  \n",
       "1                   4.0               Unknown  \n",
       "2                   3.0                Cruise  \n",
       "3                   2.0                Cruise  \n",
       "4                   1.0              Approach  "
      ]
     },
     "execution_count": 189,
     "metadata": {},
     "output_type": "execute_result"
    }
   ],
   "source": [
    "# Creating a new DataFrame with only the columns of interest\n",
    "aviation_data = df.loc[:, ['investigation_type', 'event_date', 'aircraft_damage', 'number_of_engines', 'total_fatal_injuries', 'broad_phase_of_flight']]\n",
    "aviation_data.head()"
   ]
  },
  {
   "cell_type": "markdown",
   "id": "c01151a1",
   "metadata": {},
   "source": [
    "### Missing Values"
   ]
  },
  {
   "cell_type": "markdown",
   "id": "9eb2c584",
   "metadata": {},
   "source": [
    "Most columns in the `aviation_data` DataFrame have missing values. The percentage of missing values in each column is indicated below."
   ]
  },
  {
   "cell_type": "code",
   "execution_count": 190,
   "id": "c3ccca0d",
   "metadata": {},
   "outputs": [
    {
     "data": {
      "text/plain": [
       "investigation_type         0.0%\n",
       "event_date                1.61%\n",
       "aircraft_damage           5.15%\n",
       "number_of_engines         8.35%\n",
       "total_fatal_injuries     14.23%\n",
       "broad_phase_of_flight    31.68%\n",
       "dtype: object"
      ]
     },
     "execution_count": 190,
     "metadata": {},
     "output_type": "execute_result"
    }
   ],
   "source": [
    "aviation_data.isna().sum().map(lambda x: f\"{round((x/aviation_data.shape[0])*100, 2)}%\")"
   ]
  },
  {
   "cell_type": "markdown",
   "id": "bc83351b",
   "metadata": {},
   "source": [
    "#### Dropping Rows with Missing Values\n",
    "Records with missing values in the `event_date` column are displayed below."
   ]
  },
  {
   "cell_type": "code",
   "execution_count": 96,
   "id": "4237a3cf",
   "metadata": {},
   "outputs": [
    {
     "data": {
      "text/html": [
       "<div>\n",
       "<style scoped>\n",
       "    .dataframe tbody tr th:only-of-type {\n",
       "        vertical-align: middle;\n",
       "    }\n",
       "\n",
       "    .dataframe tbody tr th {\n",
       "        vertical-align: top;\n",
       "    }\n",
       "\n",
       "    .dataframe thead th {\n",
       "        text-align: right;\n",
       "    }\n",
       "</style>\n",
       "<table border=\"1\" class=\"dataframe\">\n",
       "  <thead>\n",
       "    <tr style=\"text-align: right;\">\n",
       "      <th></th>\n",
       "      <th>investigation_type</th>\n",
       "      <th>event_date</th>\n",
       "      <th>aircraft_damage</th>\n",
       "      <th>number_of_engines</th>\n",
       "      <th>total_fatal_injuries</th>\n",
       "      <th>broad_phase_of_flight</th>\n",
       "    </tr>\n",
       "  </thead>\n",
       "  <tbody>\n",
       "    <tr>\n",
       "      <th>64030</th>\n",
       "      <td>25-09-2020</td>\n",
       "      <td>NaN</td>\n",
       "      <td>NaN</td>\n",
       "      <td>NaN</td>\n",
       "      <td>NaN</td>\n",
       "      <td>NaN</td>\n",
       "    </tr>\n",
       "    <tr>\n",
       "      <th>64050</th>\n",
       "      <td>25-09-2020</td>\n",
       "      <td>NaN</td>\n",
       "      <td>NaN</td>\n",
       "      <td>NaN</td>\n",
       "      <td>NaN</td>\n",
       "      <td>NaN</td>\n",
       "    </tr>\n",
       "    <tr>\n",
       "      <th>64052</th>\n",
       "      <td>25-09-2020</td>\n",
       "      <td>NaN</td>\n",
       "      <td>NaN</td>\n",
       "      <td>NaN</td>\n",
       "      <td>NaN</td>\n",
       "      <td>NaN</td>\n",
       "    </tr>\n",
       "    <tr>\n",
       "      <th>64388</th>\n",
       "      <td>25-09-2020</td>\n",
       "      <td>NaN</td>\n",
       "      <td>NaN</td>\n",
       "      <td>NaN</td>\n",
       "      <td>NaN</td>\n",
       "      <td>NaN</td>\n",
       "    </tr>\n",
       "    <tr>\n",
       "      <th>64541</th>\n",
       "      <td>25-09-2020</td>\n",
       "      <td>NaN</td>\n",
       "      <td>NaN</td>\n",
       "      <td>NaN</td>\n",
       "      <td>NaN</td>\n",
       "      <td>NaN</td>\n",
       "    </tr>\n",
       "    <tr>\n",
       "      <th>...</th>\n",
       "      <td>...</td>\n",
       "      <td>...</td>\n",
       "      <td>...</td>\n",
       "      <td>...</td>\n",
       "      <td>...</td>\n",
       "      <td>...</td>\n",
       "    </tr>\n",
       "    <tr>\n",
       "      <th>90004</th>\n",
       "      <td>15-12-2022</td>\n",
       "      <td>NaN</td>\n",
       "      <td>NaN</td>\n",
       "      <td>NaN</td>\n",
       "      <td>NaN</td>\n",
       "      <td>NaN</td>\n",
       "    </tr>\n",
       "    <tr>\n",
       "      <th>90010</th>\n",
       "      <td>15-12-2022</td>\n",
       "      <td>NaN</td>\n",
       "      <td>NaN</td>\n",
       "      <td>NaN</td>\n",
       "      <td>NaN</td>\n",
       "      <td>NaN</td>\n",
       "    </tr>\n",
       "    <tr>\n",
       "      <th>90031</th>\n",
       "      <td>15-12-2022</td>\n",
       "      <td>NaN</td>\n",
       "      <td>NaN</td>\n",
       "      <td>NaN</td>\n",
       "      <td>NaN</td>\n",
       "      <td>NaN</td>\n",
       "    </tr>\n",
       "    <tr>\n",
       "      <th>90090</th>\n",
       "      <td>20-12-2022</td>\n",
       "      <td>NaN</td>\n",
       "      <td>NaN</td>\n",
       "      <td>NaN</td>\n",
       "      <td>NaN</td>\n",
       "      <td>NaN</td>\n",
       "    </tr>\n",
       "    <tr>\n",
       "      <th>90097</th>\n",
       "      <td>20-12-2022</td>\n",
       "      <td>NaN</td>\n",
       "      <td>NaN</td>\n",
       "      <td>NaN</td>\n",
       "      <td>NaN</td>\n",
       "      <td>NaN</td>\n",
       "    </tr>\n",
       "  </tbody>\n",
       "</table>\n",
       "<p>1459 rows × 6 columns</p>\n",
       "</div>"
      ],
      "text/plain": [
       "      investigation_type event_date aircraft_damage  number_of_engines  \\\n",
       "64030         25-09-2020        NaN             NaN                NaN   \n",
       "64050         25-09-2020        NaN             NaN                NaN   \n",
       "64052         25-09-2020        NaN             NaN                NaN   \n",
       "64388         25-09-2020        NaN             NaN                NaN   \n",
       "64541         25-09-2020        NaN             NaN                NaN   \n",
       "...                  ...        ...             ...                ...   \n",
       "90004         15-12-2022        NaN             NaN                NaN   \n",
       "90010         15-12-2022        NaN             NaN                NaN   \n",
       "90031         15-12-2022        NaN             NaN                NaN   \n",
       "90090         20-12-2022        NaN             NaN                NaN   \n",
       "90097         20-12-2022        NaN             NaN                NaN   \n",
       "\n",
       "       total_fatal_injuries broad_phase_of_flight  \n",
       "64030                   NaN                   NaN  \n",
       "64050                   NaN                   NaN  \n",
       "64052                   NaN                   NaN  \n",
       "64388                   NaN                   NaN  \n",
       "64541                   NaN                   NaN  \n",
       "...                     ...                   ...  \n",
       "90004                   NaN                   NaN  \n",
       "90010                   NaN                   NaN  \n",
       "90031                   NaN                   NaN  \n",
       "90090                   NaN                   NaN  \n",
       "90097                   NaN                   NaN  \n",
       "\n",
       "[1459 rows x 6 columns]"
      ]
     },
     "execution_count": 96,
     "metadata": {},
     "output_type": "execute_result"
    }
   ],
   "source": [
    "aviation_data.loc[aviation_data['event_date'].isna()]"
   ]
  },
  {
   "cell_type": "markdown",
   "id": "c0d49d5c",
   "metadata": {},
   "source": [
    "It seems that most records missing the event date are also missing values in the other columns. In that case, dropping these records will not result in any loss of data."
   ]
  },
  {
   "cell_type": "code",
   "execution_count": 191,
   "id": "1c58573d",
   "metadata": {},
   "outputs": [],
   "source": [
    "# Dropping rows with missing event date\n",
    "aviation_data.dropna(subset=['event_date'], inplace=True)"
   ]
  },
  {
   "cell_type": "markdown",
   "id": "c700c943",
   "metadata": {},
   "source": [
    "#### Replacing Missing Values with Appropriate Category Name\n",
    "Below are the categories present in the `aircraft_damage` column."
   ]
  },
  {
   "cell_type": "code",
   "execution_count": 192,
   "id": "cf57bdeb",
   "metadata": {},
   "outputs": [
    {
     "data": {
      "text/plain": [
       "array(['Destroyed', 'Substantial', 'Minor', nan, 'Unknown'], dtype=object)"
      ]
     },
     "execution_count": 192,
     "metadata": {},
     "output_type": "execute_result"
    }
   ],
   "source": [
    "# Displaying unique values in aircraft_damage column\n",
    "aviation_data['aircraft_damage'].unique()"
   ]
  },
  {
   "cell_type": "markdown",
   "id": "82fb2648",
   "metadata": {},
   "source": [
    "Aside from the missing values in this column, there is another category labelled 'Unknown'. The missing values in `aircraft_damage` column can therefore be replaced with the value 'Unknown'."
   ]
  },
  {
   "cell_type": "code",
   "execution_count": 193,
   "id": "9a79dfeb",
   "metadata": {},
   "outputs": [],
   "source": [
    "# Replacing missing values in the column with 'Unknown'\n",
    "aviation_data['aircraft_damage'].fillna(value='Unknown', inplace=True)"
   ]
  },
  {
   "cell_type": "markdown",
   "id": "e3e9f95d",
   "metadata": {},
   "source": [
    "The same observation can be made for the `broad_phase_of_flight` column, and therefore the same treatment of missing values is applied."
   ]
  },
  {
   "cell_type": "code",
   "execution_count": 194,
   "id": "0b3f573d",
   "metadata": {},
   "outputs": [
    {
     "data": {
      "text/plain": [
       "array(['Cruise', 'Unknown', 'Approach', 'Climb', 'Takeoff', 'Landing',\n",
       "       'Taxi', 'Descent', 'Maneuvering', 'Standing', 'Go-around', 'Other',\n",
       "       nan], dtype=object)"
      ]
     },
     "execution_count": 194,
     "metadata": {},
     "output_type": "execute_result"
    }
   ],
   "source": [
    "# Displaying unique values in broad_phase_of_flight column\n",
    "aviation_data['broad_phase_of_flight'].unique()"
   ]
  },
  {
   "cell_type": "code",
   "execution_count": 195,
   "id": "efb70933",
   "metadata": {},
   "outputs": [],
   "source": [
    "# Replacing missing values in the column with 'Unknown'\n",
    "aviation_data['broad_phase_of_flight'].fillna(value='Unknown', inplace=True)"
   ]
  },
  {
   "cell_type": "markdown",
   "id": "ee58a1e5",
   "metadata": {},
   "source": [
    "#### Imputing Missing Values\n",
    "Next, the distribution of data in the `number_of_engines` column is observed with the use of a histogram."
   ]
  },
  {
   "cell_type": "code",
   "execution_count": 196,
   "id": "a0ed8eb4",
   "metadata": {},
   "outputs": [
    {
     "data": {
      "image/png": "[encoded data removed]",
      "text/plain": [
       "<Figure size 432x288 with 1 Axes>"
      ]
     },
     "metadata": {
      "needs_background": "light"
     },
     "output_type": "display_data"
    }
   ],
   "source": [
    "# Plotting a histogram to view the distribution of number of engines\n",
    "aviation_data['number_of_engines'].plot(kind='hist', bins=8)\n",
    "\n",
    "plt.title('Distribution of Number of Engines on an Aircraft')\n",
    "plt.xlabel('Number of Engines')\n",
    "plt.ylabel('Aircrafts With This Number of Engines');"
   ]
  },
  {
   "cell_type": "code",
   "execution_count": 197,
   "id": "2cde59e6",
   "metadata": {},
   "outputs": [
    {
     "name": "stdout",
     "output_type": "stream",
     "text": [
      "mean: 1.1465853511261397\n",
      "median: 1.0\n"
     ]
    }
   ],
   "source": [
    "# Printing the mean and median\n",
    "print(f\"mean: {aviation_data['number_of_engines'].mean()}\")\n",
    "print(f\"median: {aviation_data['number_of_engines'].median()}\")"
   ]
  },
  {
   "cell_type": "markdown",
   "id": "76b3ada5",
   "metadata": {},
   "source": [
    "The distribution of `number_of_engines` is slightly positively skewed, resulting in the mean being slightly greater than the median. To avoid altering the distribution of data in this column, the missing values are imputed with the median."
   ]
  },
  {
   "cell_type": "code",
   "execution_count": 198,
   "id": "971b28d0",
   "metadata": {},
   "outputs": [],
   "source": [
    "# Imputing missing values with the median\n",
    "aviation_data['number_of_engines'].fillna(value=aviation_data['number_of_engines'].median(), inplace=True)"
   ]
  },
  {
   "cell_type": "markdown",
   "id": "0fb3cab4",
   "metadata": {},
   "source": [
    "The distribution of data in the `total_fatal_injuries` column is now observed with the use of a boxplot."
   ]
  },
  {
   "cell_type": "code",
   "execution_count": 199,
   "id": "87f99ca9",
   "metadata": {},
   "outputs": [
    {
     "data": {
      "image/png": "[encoded data removed]",
      "text/plain": [
       "<Figure size 432x288 with 1 Axes>"
      ]
     },
     "metadata": {
      "needs_background": "light"
     },
     "output_type": "display_data"
    }
   ],
   "source": [
    "# Plotting a boxplot to view the distribution of total fatal injuries\n",
    "aviation_data['total_fatal_injuries'].plot(kind='box')\n",
    "\n",
    "plt.title('Distribution of Total Fatal Injuries');"
   ]
  },
  {
   "cell_type": "code",
   "execution_count": 200,
   "id": "7d25d5c4",
   "metadata": {},
   "outputs": [
    {
     "name": "stdout",
     "output_type": "stream",
     "text": [
      "mean: 0.6478551517654346\n",
      "median: 0.0\n"
     ]
    }
   ],
   "source": [
    "# Printing the mean and median\n",
    "print(f\"mean: {aviation_data['total_fatal_injuries'].mean()}\")\n",
    "print(f\"median: {aviation_data['total_fatal_injuries'].median()}\")"
   ]
  },
  {
   "cell_type": "markdown",
   "id": "9cf05e77",
   "metadata": {},
   "source": [
    "Similarly, the distribution of `total_fatal_injuries` is positively skewed. In this case the missing values are also imputed with the median."
   ]
  },
  {
   "cell_type": "code",
   "execution_count": 201,
   "id": "da61c9f4",
   "metadata": {},
   "outputs": [],
   "source": [
    "# Imputing missing values with the median\n",
    "aviation_data['total_fatal_injuries'].fillna(value=aviation_data['total_fatal_injuries'].median(), inplace=True)"
   ]
  },
  {
   "cell_type": "markdown",
   "id": "39b35b15",
   "metadata": {},
   "source": [
    "The missing values in our dataset have now been handled."
   ]
  },
  {
   "cell_type": "code",
   "execution_count": 202,
   "id": "5dd9425b",
   "metadata": {},
   "outputs": [
    {
     "data": {
      "text/plain": [
       "investigation_type       0.0%\n",
       "event_date               0.0%\n",
       "aircraft_damage          0.0%\n",
       "number_of_engines        0.0%\n",
       "total_fatal_injuries     0.0%\n",
       "broad_phase_of_flight    0.0%\n",
       "dtype: object"
      ]
     },
     "execution_count": 202,
     "metadata": {},
     "output_type": "execute_result"
    }
   ],
   "source": [
    "# Displaying percentage of missing values for each column\n",
    "aviation_data.isna().sum().map(lambda x: f\"{round((x/aviation_data.shape[0])*100, 2)}%\")"
   ]
  },
  {
   "cell_type": "markdown",
   "id": "6cd142f6",
   "metadata": {},
   "source": [
    "As a final step of our data preparation, the datatype of the `event_date` column is changed from object to datetime, which is more appropriate for our analysis."
   ]
  },
  {
   "cell_type": "code",
   "execution_count": 203,
   "id": "5f8b1139",
   "metadata": {},
   "outputs": [],
   "source": [
    "aviation_data['event_date'] = pd.to_datetime(aviation_data['event_date'])"
   ]
  },
  {
   "cell_type": "code",
   "execution_count": 204,
   "id": "af17d20c",
   "metadata": {},
   "outputs": [
    {
     "name": "stdout",
     "output_type": "stream",
     "text": [
      "<class 'pandas.core.frame.DataFrame'>\n",
      "Int64Index: 88889 entries, 0 to 90347\n",
      "Data columns (total 6 columns):\n",
      " #   Column                 Non-Null Count  Dtype         \n",
      "---  ------                 --------------  -----         \n",
      " 0   investigation_type     88889 non-null  object        \n",
      " 1   event_date             88889 non-null  datetime64[ns]\n",
      " 2   aircraft_damage        88889 non-null  object        \n",
      " 3   number_of_engines      88889 non-null  float64       \n",
      " 4   total_fatal_injuries   88889 non-null  float64       \n",
      " 5   broad_phase_of_flight  88889 non-null  object        \n",
      "dtypes: datetime64[ns](1), float64(2), object(3)\n",
      "memory usage: 4.7+ MB\n"
     ]
    }
   ],
   "source": [
    "aviation_data.info()"
   ]
  },
  {
   "cell_type": "markdown",
   "id": "c8ec39b2",
   "metadata": {},
   "source": [
    "Now that the data is clean, our data analysis can begin."
   ]
  },
  {
   "cell_type": "markdown",
   "id": "91326317",
   "metadata": {},
   "source": [
    "#### Trend of aircraft accidents and fatalities over the years?\n",
    "To answer our first question, a line graph is used to observe the trend of aircraft accidents and fatal injuries resulting from these accidents over the years."
   ]
  },
  {
   "cell_type": "code",
   "execution_count": 206,
   "id": "7c2ab414",
   "metadata": {},
   "outputs": [
    {
     "data": {
      "image/png": "[encoded data removed]",
      "text/plain": [
       "<Figure size 1080x720 with 1 Axes>"
      ]
     },
     "metadata": {
      "needs_background": "light"
     },
     "output_type": "display_data"
    }
   ],
   "source": [
    "# Plotting a Line Graph to view the number of accidents and fatalities over the years\n",
    "plt.figure(figsize=(15,10))\n",
    "\n",
    "# Grouping the data by year\n",
    "grouped_by_year = aviation_data.groupby(pd.Grouper(key='event_date', freq='Y')).agg({'investigation_type': 'count', 'total_fatal_injuries': 'sum'}).reset_index()\n",
    "\n",
    "sns.lineplot(x='event_date', y='investigation_type', data=grouped_by_year, label='Accidents')\n",
    "sns.lineplot(x='event_date', y='total_fatal_injuries', data=grouped_by_year, label='Fatalities')\n",
    "\n",
    "plt.title('Aircraft Accident and Fatalities Trend')\n",
    "plt.xlabel('Years')\n",
    "plt.ylabel('Frequency')\n",
    "plt.legend();"
   ]
  },
  {
   "cell_type": "markdown",
   "id": "a0873541",
   "metadata": {},
   "source": [
    "As indicated in the line graph above, the number of aircraft accidents continues to decrease over the years. Similarly, the number of fatal injuries has also reduced over the years.\n"
   ]
  },
  {
   "cell_type": "markdown",
   "id": "127ddb70",
   "metadata": {},
   "source": [
    "#### Aircraft Accidents at Different Phases of Flight\n",
    "The image below highlights different phases of flight for aircrafts. In this section, the total number of accidents that occurred in each phase of flight over the years were investigated. The number of fatal injuries and the level of damage done to the aircraft at each phase of flight was also investigated."
   ]
  },
  {
   "cell_type": "markdown",
   "id": "6a4dd82d",
   "metadata": {},
   "source": [
    "<p align=\"center\">\n",
    "  <img src=\"phases-of-flight.png\" width=\"1000\" height=\"430\">\n",
    "</p>"
   ]
  },
  {
   "cell_type": "markdown",
   "id": "2508254c",
   "metadata": {},
   "source": [
    "The bar graph below showcases the total number of accidents that have occurred at each phase of flight."
   ]
  },
  {
   "cell_type": "code",
   "execution_count": 221,
   "id": "ad8f5223",
   "metadata": {},
   "outputs": [
    {
     "data": {
      "image/png": "[encoded data removed]",
      "text/plain": [
       "<Figure size 864x432 with 1 Axes>"
      ]
     },
     "metadata": {
      "needs_background": "light"
     },
     "output_type": "display_data"
    }
   ],
   "source": [
    "# Plotting a bar graph to show number of accidents thats have occurred in each phase\n",
    "plt.figure(figsize=(12,6))\n",
    "\n",
    "accidents_by_phase = aviation_data.groupby('broad_phase_of_flight').count()['investigation_type'].sort_values()\n",
    "\n",
    "sns.barplot(x=accidents_by_phase.index, y=accidents_by_phase.values, color='lightseagreen')\n",
    "\n",
    "plt.title('Number of Accidents per Phase of Flight')\n",
    "plt.ylabel('Number of Accidents')\n",
    "plt.xlabel('Phase of Flight');\n",
    "\n"
   ]
  },
  {
   "cell_type": "markdown",
   "id": "87af07ec",
   "metadata": {},
   "source": [
    "From the bar chart above it seems that for most accidents in the dataset, the phase of flight in which the accient occurred was not known. However, this does not provide much information for the organization. For this reason, the focus shall be only on accidents whose phase of flight is known."
   ]
  },
  {
   "cell_type": "code",
   "execution_count": 220,
   "id": "b8ae9dce",
   "metadata": {},
   "outputs": [
    {
     "data": {
      "image/png": "[encoded data removed]",
      "text/plain": [
       "<Figure size 864x576 with 1 Axes>"
      ]
     },
     "metadata": {
      "needs_background": "light"
     },
     "output_type": "display_data"
    }
   ],
   "source": [
    "# Plotting a bar graph to show number of accidents that have occurred in each phase\n",
    "plt.figure(figsize=(12,8))\n",
    "\n",
    "# Filterin the data to only contain accidents whose phase of flight is known\n",
    "accidents_at_unknown_phase = aviation_data.loc[aviation_data['broad_phase_of_flight']=='Unknown']\n",
    "dropped_unknown_phase = aviation_data.drop(accidents_at_unknown_phase.index)\n",
    "accidents_by_phase = dropped_unknown_phase.groupby('broad_phase_of_flight').count()['investigation_type'].sort_values()\n",
    "\n",
    "sns.barplot(x=accidents_by_phase.index, y=accidents_by_phase.values, color='lightseagreen')\n",
    "\n",
    "plt.title('Number of Accidents per Phase of Flight')\n",
    "plt.ylabel('Number of Accidents')\n",
    "plt.xlabel('Phase of Flight');"
   ]
  },
  {
   "cell_type": "markdown",
   "id": "16b9fddb",
   "metadata": {},
   "source": [
    "It appears most accidents occur at the Landing and Takeoff phases. These are the points at which the aircraft is transitioning from air to ground and from ground to air respectively. During these transitions there is little time for error correction. \n",
    "\n",
    "Now the bar chart below displays the number of fatal injuries recorded at each phase."
   ]
  },
  {
   "cell_type": "code",
   "execution_count": 219,
   "id": "850374df",
   "metadata": {},
   "outputs": [
    {
     "data": {
      "image/png": "[encoded data removed]",
      "text/plain": [
       "<Figure size 864x576 with 1 Axes>"
      ]
     },
     "metadata": {
      "needs_background": "light"
     },
     "output_type": "display_data"
    }
   ],
   "source": [
    "plt.figure(figsize=(12,8))\n",
    "\n",
    "grouped_by_phase = dropped_unknown_phase.groupby('broad_phase_of_flight').agg({'investigation_type': 'count', 'total_fatal_injuries': 'sum'}).sort_values(by=['investigation_type'])\n",
    "\n",
    "sns.barplot(x=grouped_by_phase.index, y='investigation_type',  data=grouped_by_phase, color='lightseagreen', label='Accidents')\n",
    "sns.barplot(x=grouped_by_phase.index, y='total_fatal_injuries', data=grouped_by_phase, color='darkorange', label='Fatalities')\n",
    "\n",
    "plt.title('Number of Accidents and Fatalities per Phase of Flight')\n",
    "plt.ylabel('Frequency')\n",
    "plt.xlabel('Phase of Flight')\n",
    "plt.legend();"
   ]
  },
  {
   "cell_type": "markdown",
   "id": "2206ac8e",
   "metadata": {},
   "source": [
    "Although the Landing and Takeoff phases of flight have the most occurrences of accidents, very few of them result in fatalities. The highest number of fatalities is instead experienced in accidents that occur in the cruise phase. Although cruise is generally a safer phase of flight compared to Landing and Takeoff, the risk of fatalities is much higher when accidents occur.\n",
    "\n",
    "Finally, the chart below shows the level of damage done to the plane at each phase."
   ]
  },
  {
   "cell_type": "code",
   "execution_count": 213,
   "id": "4dfde908",
   "metadata": {},
   "outputs": [
    {
     "data": {
      "image/png": "[encoded data removed]",
      "text/plain": [
       "<Figure size 1080x576 with 1 Axes>"
      ]
     },
     "metadata": {
      "needs_background": "light"
     },
     "output_type": "display_data"
    }
   ],
   "source": [
    "plt.figure(figsize=(15,8))\n",
    "\n",
    "grouped_by_phase_and_damage = dropped_unknown_phase.groupby(['broad_phase_of_flight', 'aircraft_damage']).count().reset_index()\n",
    "\n",
    "sns.barplot(x='broad_phase_of_flight', y='investigation_type', data=grouped_by_phase_and_damage, hue='aircraft_damage')\n",
    "\n",
    "plt.title('Level of Aircraft Damage per Phase of Flight')\n",
    "plt.ylabel('Number of Accidents')\n",
    "plt.xlabel('Phase of Flight');"
   ]
  },
  {
   "cell_type": "markdown",
   "id": "801dbc9a",
   "metadata": {},
   "source": [
    "As noted earlier, most accidents occur at the Landing and Takeoff phase of flight. In addition to this, it seems that in the occurence of these accidents, a substantial amount of damage is done to the aircraft. For the phases that have a higher risk of having fatalities (Cruise, Maneuvering), the aircrafts tend to be destroyed in the event of an accident."
   ]
  },
  {
   "cell_type": "markdown",
   "id": "62136b1a",
   "metadata": {},
   "source": [
    "#### Relation between number of engines in an aircraft and fatalities in the occurrence of an accident\n",
    "Finally, an analysis was done to investigate if there is any relation between the number of engines in an aircraft and the fatalities in the event of an accident. The bar graph below shows the number of engines in an aircraft and the number of fatal injuries for aircrafts with that number of engines."
   ]
  },
  {
   "cell_type": "code",
   "execution_count": 222,
   "id": "5e12ba5f",
   "metadata": {},
   "outputs": [
    {
     "data": {
      "image/png": "[encoded data removed]",
      "text/plain": [
       "<Figure size 720x576 with 1 Axes>"
      ]
     },
     "metadata": {
      "needs_background": "light"
     },
     "output_type": "display_data"
    }
   ],
   "source": [
    "plt.figure(figsize=(10,8))\n",
    "\n",
    "fatalities_vs_num_engines = aviation_data.groupby('number_of_engines').sum().reset_index()\n",
    "\n",
    "sns.barplot(x='number_of_engines', y='total_fatal_injuries', data=fatalities_vs_num_engines, color='cadetblue')\n",
    "\n",
    "plt.title('Number of Fatalities Vs Number of Engines in an Aircraft')\n",
    "plt.xlabel('Number of Engines')\n",
    "plt.ylabel('Number of Fatalities');"
   ]
  },
  {
   "cell_type": "markdown",
   "id": "fb939bc7",
   "metadata": {},
   "source": [
    "It can be observed that the highest number of fatalities occurs when the aircraft has only one engine."
   ]
  },
  {
   "cell_type": "markdown",
   "id": "5063c23a",
   "metadata": {},
   "source": [
    "### Conclusion\n",
    "It is said that airplanes are the safest mode of transportation. Indeed, it can be observed from this analysis that the number of aircraft accidents and fatalities have significantly reduced over the years.\n",
    "\n",
    "However, it is important to note situations that lead to occurrences of these accidents. From this analysis, it's apparent that majority of aircraft accidents occur at the Landing phase of flight and the Takeoff phase of flight. This means that aircrafts are at the highest risk of crashing at the beginning and the end of a flight, when pilots have little time to react if something goes wrong. Additionally, aircrafts are also more likely to experience turbulence and bird strikes at these low altitudes. It is also in these phases of flight where the aircrafts are substantially damaged in the event of an accident. However, it is rather encouraging to note that the number of fatalities recorded in these two phases are quite low.\n",
    "\n",
    "The analysis also shows that there is a higher risk of fatal injuries in accidents that involve aircrafts with only one engine while those with more than one engine have less fatal injuries.\n",
    "\n",
    "In conclusion, the aircraft industry is a worthwhile business venture for the company given that a lot of effort has been put into advancing the technology used in airplanes to make them safer. Investing in aircrafts that have sophisticated auto-pilot and auto-landing systems will be beneficial as this will enhance flight precision and reduce number of accidents at Landing and Takeoff. Finally, it is also advisable for the company to invest in aircrafts that have at least two engines, to further reduce the risk of fatalities."
   ]
  },
  {
   "cell_type": "markdown",
   "id": "748d3bca",
   "metadata": {},
   "source": []
  }
 ],
 "metadata": {
  "kernelspec": {
   "display_name": "Python (learn-env)",
   "language": "python",
   "name": "learn-env"
  },
  "language_info": {
   "codemirror_mode": {
    "name": "ipython",
    "version": 3
   },
   "file_extension": ".py",
   "mimetype": "text/x-python",
   "name": "python",
   "nbconvert_exporter": "python",
   "pygments_lexer": "ipython3",
   "version": "3.8.5"
  }
 },
 "nbformat": 4,
 "nbformat_minor": 5
}
